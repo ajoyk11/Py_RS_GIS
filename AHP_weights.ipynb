{
 "cells": [
  {
   "cell_type": "code",
   "execution_count": null,
   "metadata": {},
   "outputs": [],
   "source": [
    "import numpy as np\n",
    "import sys\n",
    "import pandas as pd\n",
    "def ahp_weights():\n",
    "\n",
    "    data=pd.read_excel(\"ahp_in.xlsx\",header=None)\n",
    "    print(\"AHP matrix is:\\n\",data)\n",
    "    data.loc[len(data),:] = [np.NAN for i in range(len(data.columns))]\n",
    "    #print(data)\n",
    "    col_len=len(data.columns)\n",
    "    row_len=len(data)\n",
    "    data.iloc[row_len-1,0]='sum'\n",
    "    for j in range(1,col_len):\n",
    "        sum=0\n",
    "        for i in range(1,row_len-1):\n",
    "            sum+=data.iloc[i,j]\n",
    "        data.iloc[row_len-1,j]=sum\n",
    "    #print(data)\n",
    "    for j in range(1,col_len):\n",
    "        for i in range(1,row_len-1):\n",
    "            data.iloc[i,j]/=data.iloc[row_len-1,j]\n",
    "    print(\"All computation for weight matrix of AHP:\\n\",data)\n",
    "    #wt = pd.DataFrame({'weights': [np.NaN for i in range(row_len-1)]})\n",
    "    #print(wt)\n",
    "    wt = data.iloc[0:row_len-1,0:2]\n",
    "    wt.iloc[0,1]='weights'\n",
    "    #print(wt)\n",
    "\n",
    "    for i in range(1,row_len-1):\n",
    "        sum=0\n",
    "        for j in range(1,col_len):\n",
    "            sum+=data.iloc[i,j]\n",
    "        wt.iloc[i,1]=sum/(col_len-1)\n",
    "    print(\"The weight matrix is: \",wt)\n",
    "    wt.to_excel('ahp_weights.xlsx',index=False,header=False)\n",
    "if __name__==\"__main__\":\n",
    "    ahp_weights()"
   ]
  }
 ],
 "metadata": {
  "language_info": {
   "name": "python"
  }
 },
 "nbformat": 4,
 "nbformat_minor": 2
}
