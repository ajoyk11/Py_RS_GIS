{
 "cells": [
  {
   "cell_type": "markdown",
   "id": "7dfb8fc2",
   "metadata": {},
   "source": [
    "# IMDLIB"
   ]
  },
  {
   "cell_type": "markdown",
   "id": "20b115df",
   "metadata": {},
   "source": [
    "## 1. Rainfall"
   ]
  },
  {
   "cell_type": "markdown",
   "id": "dfbaa115",
   "metadata": {},
   "source": [
    "### 1.1 Dowonlaod Yearwise Rainfall Data"
   ]
  },
  {
   "cell_type": "code",
   "execution_count": null,
   "id": "e4532143",
   "metadata": {},
   "outputs": [
    {
     "name": "stdout",
     "output_type": "stream",
     "text": [
      "Downloading: rain for year 2015\n"
     ]
    }
   ],
   "source": [
    "import imdlib as imd\n",
    "\n",
    "# Define time (year) and data directory\n",
    "start_year = 2015\n",
    "end_year = 2024\n",
    "data_dir = \"D:/IMD/RAINFALL/\"\n",
    "\n",
    "# Download daily data\n",
    "imd.get_data('rain', start_year, end_year, fn_format='yearwise', file_dir=data_dir)\n",
    "\n",
    "#it will download data for whole India , further have to clip for study area...\n"
   ]
  },
  {
   "cell_type": "markdown",
   "id": "0200f980",
   "metadata": {},
   "source": [
    "### 1.2 clipping"
   ]
  },
  {
   "cell_type": "code",
   "execution_count": 23,
   "id": "10b6bd5f",
   "metadata": {},
   "outputs": [
    {
     "name": "stdout",
     "output_type": "stream",
     "text": [
      "<xarray.Dataset> Size: 263kB\n",
      "Dimensions:      (lat: 2, lon: 4, time: 3653)\n",
      "Coordinates:\n",
      "  * lat          (lat) float64 16B 29.5 29.75\n",
      "  * lon          (lon) float64 32B 79.0 79.25 79.5 79.75\n",
      "  * time         (time) datetime64[ns] 29kB 2015-01-01 2015-01-02 ... 2024-12-31\n",
      "    spatial_ref  int32 4B 0\n",
      "Data variables:\n",
      "    rain         (time, lat, lon) float64 234kB 0.0 0.0 0.0 0.0 ... 0.0 0.0 0.0\n",
      "Attributes:\n",
      "    Conventions:  CF-1.7\n",
      "    title:        IMD gridded data\n",
      "    source:       https://imdpune.gov.in/\n",
      "    history:      2025-08-18 07:37:28.122625 Python\n",
      "    references:   \n",
      "    comment:      \n"
     ]
    }
   ],
   "source": [
    "import geopandas as gpd\n",
    "import rioxarray\n",
    "import imdlib as imd\n",
    "\n",
    "#paths and parameters\n",
    "data_dir   = \"D:/IMD/RAINFALL/\"    \n",
    "shapefile  = \"D:/IMD/KOSI_BOUNDARY/KOSI-BOUNDARY.shp\"\n",
    "start_year = 2015\n",
    "end_year   = 2024\n",
    "\n",
    "#open IMD daily rainfall data which is in the unit mm/day\n",
    "data = imd.open_data('rain', start_year, end_year, 'yearwise', data_dir)\n",
    "rain = data.get_xarray().rio.write_crs(\"EPSG:4326\")  # assign it to WGS84 \n",
    "\n",
    "# Clip to aoi\n",
    "aoi = gpd.read_file(shapefile).to_crs(\"EPSG:4326\")\n",
    "rain_masked = rain.rio.clip(aoi.geometry, aoi.crs, drop=True)\n",
    "\n",
    "#clip to boundary\n",
    "bounds = aoi.total_bounds   # [minx, miny, maxx, maxy]\n",
    "rain_clipped = rain.rio.clip_box(\n",
    "    minx=bounds[0], miny=bounds[1],\n",
    "    maxx=bounds[2], maxy=bounds[3]\n",
    ")\n",
    "# Set spatial dimensions (for compatibility with rioxarray )\n",
    "lat = [c for c in rain_clipped.coords if \"lat\" in c.lower()][0]\n",
    "lon = [c for c in rain_clipped.coords if \"lon\" in c.lower()][0]\n",
    "rain_clipped = rain_clipped.rio.set_spatial_dims(x_dim=lon, y_dim=lat)\n",
    "\n",
    "#check it finally\n",
    "print(rain_clipped)\n"
   ]
  },
  {
   "cell_type": "markdown",
   "id": "958152e9",
   "metadata": {},
   "source": [
    "### 1.3 Save clipped data as NetCDF (Rectengular)\n"
   ]
  },
  {
   "cell_type": "code",
   "execution_count": 5,
   "id": "55372e8f",
   "metadata": {},
   "outputs": [
    {
     "name": "stdout",
     "output_type": "stream",
     "text": [
      "Saved to D:/IMD/KOSI_RAINFALL_2015_2024.nc\n"
     ]
    }
   ],
   "source": [
    "out_nc = \"D:/IMD/KOSI_RAINFALL_2015_2024.nc\"\n",
    "rain_clipped.to_netcdf(out_nc)\n",
    "print(f\"Saved to {out_nc}\")\n"
   ]
  },
  {
   "cell_type": "markdown",
   "id": "07eb5d9f",
   "metadata": {},
   "source": [
    "### 1.4 Save the daily data as CSV"
   ]
  },
  {
   "cell_type": "code",
   "execution_count": 17,
   "id": "516cdd1c",
   "metadata": {},
   "outputs": [
    {
     "name": "stdout",
     "output_type": "stream",
     "text": [
      " Daily AOI mean rainfall saved: D:/IMD/KOSI_RAINFALL_DAILY_AVG_2015_2024.csv\n"
     ]
    }
   ],
   "source": [
    "#declare csv path\n",
    "csv_path = \"D:/IMD/KOSI_RAINFALL_DAILY_AVG_2015_2024.csv\"\n",
    "\n",
    "#average it \n",
    "rain_daily_mean = rain_masked.mean(dim=[\"lat\", \"lon\"]).to_pandas()\n",
    "\n",
    "#format index\n",
    "rain_daily_mean.index = rain_daily_mean.index.strftime(\"%Y%m%d\")\n",
    "\n",
    "# save it with auto column headers\n",
    "rain_daily_mean = rain_daily_mean.drop(\"spatial_ref\", axis=1, errors=\"ignore\")\n",
    "rain_daily_mean.to_csv(csv_path, header=[\"Rainfall_in_mm\"], index_label=\"Date\")\n",
    "\n",
    "\n",
    "print(f\" Daily AOI mean rainfall saved: {csv_path}\")\n"
   ]
  },
  {
   "cell_type": "markdown",
   "id": "ce3b0688",
   "metadata": {},
   "source": [
    "### 1.5 Save average rainnfall as Tiff file "
   ]
  },
  {
   "cell_type": "code",
   "execution_count": null,
   "id": "d1e38428",
   "metadata": {},
   "outputs": [
    {
     "name": "stdout",
     "output_type": "stream",
     "text": [
      "Saved pixelwise mean rainfall (2015–2024) to D:/IMD/KOSI_RAINFALL_PIXELWISE_MEAN_2015_2024.tif\n"
     ]
    }
   ],
   "source": [
    "rain_pixelwise_mean = rain_masked.mean(dim=\"time\").squeeze(drop=True) #for box [] change it to rain_clipped\n",
    "\n",
    "out_tif = \"D:/IMD/KOSI_RAINFALL_PIXELWISE_MEAN_2015_2024.tif\"\n",
    "rain_pixelwise_mean.rio.to_raster(out_tif, dtype=\"float32\")\n",
    "print(f\"Saved pixelwise mean rainfall (2015–2024) to {out_tif}\")\n",
    "\n",
    "\n",
    "#rain_pixelwise_mean = rain_clipped.mean(dim=\"time\").squeeze(drop=True) #Box\n",
    "# out_nc = \"D:/IMD/KOSI_RAINFALL_PIXELWISE_MEAN_2015_2024.nc\"\n",
    "# rain_pixelwise_mean.to_netcdf(out_nc)\n",
    "# print(f\"Saved pixelwise mean rainfall (2015–2024) to {out_nc}\")\n"
   ]
  }
 ],
 "metadata": {
  "kernelspec": {
   "display_name": "ajoy",
   "language": "python",
   "name": "python3"
  },
  "language_info": {
   "codemirror_mode": {
    "name": "ipython",
    "version": 3
   },
   "file_extension": ".py",
   "mimetype": "text/x-python",
   "name": "python",
   "nbconvert_exporter": "python",
   "pygments_lexer": "ipython3",
   "version": "3.11.13"
  }
 },
 "nbformat": 4,
 "nbformat_minor": 5
}
